{
 "cells": [
  {
   "cell_type": "code",
   "execution_count": 1,
   "id": "984a5633",
   "metadata": {},
   "outputs": [],
   "source": [
    "# import dependencies\n",
    "import pandas as pd\n",
    "import json\n",
    "import matplotlib.pyplot as plt\n",
    "from scipy.stats import linregress\n",
    "import warnings\n",
    "warnings.filterwarnings('ignore')\n",
    "# %matplotlib notebook  <----- use for better visuals, but may impede view\n",
    "#pip install --upgrade google-api-python-client google-auth-httplib2 google-auth-oauthlib\n"
   ]
  },
  {
   "cell_type": "code",
   "execution_count": 2,
   "id": "32e2c01b",
   "metadata": {
    "scrolled": true
   },
   "outputs": [
    {
     "ename": "FileNotFoundError",
     "evalue": "[Errno 2] No such file or directory: 'US_youtube_trending_data.csv'",
     "output_type": "error",
     "traceback": [
      "\u001b[1;31m---------------------------------------------------------------------------\u001b[0m",
      "\u001b[1;31mFileNotFoundError\u001b[0m                         Traceback (most recent call last)",
      "Input \u001b[1;32mIn [2]\u001b[0m, in \u001b[0;36m<cell line: 2>\u001b[1;34m()\u001b[0m\n\u001b[0;32m      1\u001b[0m \u001b[38;5;66;03m#Read CSV\u001b[39;00m\n\u001b[1;32m----> 2\u001b[0m Youtube_Data \u001b[38;5;241m=\u001b[39m \u001b[43mpd\u001b[49m\u001b[38;5;241;43m.\u001b[39;49m\u001b[43mread_csv\u001b[49m\u001b[43m(\u001b[49m\u001b[38;5;124;43m'\u001b[39;49m\u001b[38;5;124;43mUS_youtube_trending_data.csv\u001b[39;49m\u001b[38;5;124;43m'\u001b[39;49m\u001b[43m)\u001b[49m\n\u001b[0;32m      4\u001b[0m \u001b[38;5;66;03m# Convert CSV to Data Frame\u001b[39;00m\n\u001b[0;32m      5\u001b[0m Youtube_Data \u001b[38;5;241m=\u001b[39m pd\u001b[38;5;241m.\u001b[39mDataFrame(Youtube_Data)\n",
      "File \u001b[1;32m~\\anaconda3\\lib\\site-packages\\pandas\\util\\_decorators.py:311\u001b[0m, in \u001b[0;36mdeprecate_nonkeyword_arguments.<locals>.decorate.<locals>.wrapper\u001b[1;34m(*args, **kwargs)\u001b[0m\n\u001b[0;32m    305\u001b[0m \u001b[38;5;28;01mif\u001b[39;00m \u001b[38;5;28mlen\u001b[39m(args) \u001b[38;5;241m>\u001b[39m num_allow_args:\n\u001b[0;32m    306\u001b[0m     warnings\u001b[38;5;241m.\u001b[39mwarn(\n\u001b[0;32m    307\u001b[0m         msg\u001b[38;5;241m.\u001b[39mformat(arguments\u001b[38;5;241m=\u001b[39marguments),\n\u001b[0;32m    308\u001b[0m         \u001b[38;5;167;01mFutureWarning\u001b[39;00m,\n\u001b[0;32m    309\u001b[0m         stacklevel\u001b[38;5;241m=\u001b[39mstacklevel,\n\u001b[0;32m    310\u001b[0m     )\n\u001b[1;32m--> 311\u001b[0m \u001b[38;5;28;01mreturn\u001b[39;00m func(\u001b[38;5;241m*\u001b[39margs, \u001b[38;5;241m*\u001b[39m\u001b[38;5;241m*\u001b[39mkwargs)\n",
      "File \u001b[1;32m~\\anaconda3\\lib\\site-packages\\pandas\\io\\parsers\\readers.py:680\u001b[0m, in \u001b[0;36mread_csv\u001b[1;34m(filepath_or_buffer, sep, delimiter, header, names, index_col, usecols, squeeze, prefix, mangle_dupe_cols, dtype, engine, converters, true_values, false_values, skipinitialspace, skiprows, skipfooter, nrows, na_values, keep_default_na, na_filter, verbose, skip_blank_lines, parse_dates, infer_datetime_format, keep_date_col, date_parser, dayfirst, cache_dates, iterator, chunksize, compression, thousands, decimal, lineterminator, quotechar, quoting, doublequote, escapechar, comment, encoding, encoding_errors, dialect, error_bad_lines, warn_bad_lines, on_bad_lines, delim_whitespace, low_memory, memory_map, float_precision, storage_options)\u001b[0m\n\u001b[0;32m    665\u001b[0m kwds_defaults \u001b[38;5;241m=\u001b[39m _refine_defaults_read(\n\u001b[0;32m    666\u001b[0m     dialect,\n\u001b[0;32m    667\u001b[0m     delimiter,\n\u001b[1;32m   (...)\u001b[0m\n\u001b[0;32m    676\u001b[0m     defaults\u001b[38;5;241m=\u001b[39m{\u001b[38;5;124m\"\u001b[39m\u001b[38;5;124mdelimiter\u001b[39m\u001b[38;5;124m\"\u001b[39m: \u001b[38;5;124m\"\u001b[39m\u001b[38;5;124m,\u001b[39m\u001b[38;5;124m\"\u001b[39m},\n\u001b[0;32m    677\u001b[0m )\n\u001b[0;32m    678\u001b[0m kwds\u001b[38;5;241m.\u001b[39mupdate(kwds_defaults)\n\u001b[1;32m--> 680\u001b[0m \u001b[38;5;28;01mreturn\u001b[39;00m \u001b[43m_read\u001b[49m\u001b[43m(\u001b[49m\u001b[43mfilepath_or_buffer\u001b[49m\u001b[43m,\u001b[49m\u001b[43m \u001b[49m\u001b[43mkwds\u001b[49m\u001b[43m)\u001b[49m\n",
      "File \u001b[1;32m~\\anaconda3\\lib\\site-packages\\pandas\\io\\parsers\\readers.py:575\u001b[0m, in \u001b[0;36m_read\u001b[1;34m(filepath_or_buffer, kwds)\u001b[0m\n\u001b[0;32m    572\u001b[0m _validate_names(kwds\u001b[38;5;241m.\u001b[39mget(\u001b[38;5;124m\"\u001b[39m\u001b[38;5;124mnames\u001b[39m\u001b[38;5;124m\"\u001b[39m, \u001b[38;5;28;01mNone\u001b[39;00m))\n\u001b[0;32m    574\u001b[0m \u001b[38;5;66;03m# Create the parser.\u001b[39;00m\n\u001b[1;32m--> 575\u001b[0m parser \u001b[38;5;241m=\u001b[39m TextFileReader(filepath_or_buffer, \u001b[38;5;241m*\u001b[39m\u001b[38;5;241m*\u001b[39mkwds)\n\u001b[0;32m    577\u001b[0m \u001b[38;5;28;01mif\u001b[39;00m chunksize \u001b[38;5;129;01mor\u001b[39;00m iterator:\n\u001b[0;32m    578\u001b[0m     \u001b[38;5;28;01mreturn\u001b[39;00m parser\n",
      "File \u001b[1;32m~\\anaconda3\\lib\\site-packages\\pandas\\io\\parsers\\readers.py:933\u001b[0m, in \u001b[0;36mTextFileReader.__init__\u001b[1;34m(self, f, engine, **kwds)\u001b[0m\n\u001b[0;32m    930\u001b[0m     \u001b[38;5;28mself\u001b[39m\u001b[38;5;241m.\u001b[39moptions[\u001b[38;5;124m\"\u001b[39m\u001b[38;5;124mhas_index_names\u001b[39m\u001b[38;5;124m\"\u001b[39m] \u001b[38;5;241m=\u001b[39m kwds[\u001b[38;5;124m\"\u001b[39m\u001b[38;5;124mhas_index_names\u001b[39m\u001b[38;5;124m\"\u001b[39m]\n\u001b[0;32m    932\u001b[0m \u001b[38;5;28mself\u001b[39m\u001b[38;5;241m.\u001b[39mhandles: IOHandles \u001b[38;5;241m|\u001b[39m \u001b[38;5;28;01mNone\u001b[39;00m \u001b[38;5;241m=\u001b[39m \u001b[38;5;28;01mNone\u001b[39;00m\n\u001b[1;32m--> 933\u001b[0m \u001b[38;5;28mself\u001b[39m\u001b[38;5;241m.\u001b[39m_engine \u001b[38;5;241m=\u001b[39m \u001b[38;5;28;43mself\u001b[39;49m\u001b[38;5;241;43m.\u001b[39;49m\u001b[43m_make_engine\u001b[49m\u001b[43m(\u001b[49m\u001b[43mf\u001b[49m\u001b[43m,\u001b[49m\u001b[43m \u001b[49m\u001b[38;5;28;43mself\u001b[39;49m\u001b[38;5;241;43m.\u001b[39;49m\u001b[43mengine\u001b[49m\u001b[43m)\u001b[49m\n",
      "File \u001b[1;32m~\\anaconda3\\lib\\site-packages\\pandas\\io\\parsers\\readers.py:1217\u001b[0m, in \u001b[0;36mTextFileReader._make_engine\u001b[1;34m(self, f, engine)\u001b[0m\n\u001b[0;32m   1213\u001b[0m     mode \u001b[38;5;241m=\u001b[39m \u001b[38;5;124m\"\u001b[39m\u001b[38;5;124mrb\u001b[39m\u001b[38;5;124m\"\u001b[39m\n\u001b[0;32m   1214\u001b[0m \u001b[38;5;66;03m# error: No overload variant of \"get_handle\" matches argument types\u001b[39;00m\n\u001b[0;32m   1215\u001b[0m \u001b[38;5;66;03m# \"Union[str, PathLike[str], ReadCsvBuffer[bytes], ReadCsvBuffer[str]]\"\u001b[39;00m\n\u001b[0;32m   1216\u001b[0m \u001b[38;5;66;03m# , \"str\", \"bool\", \"Any\", \"Any\", \"Any\", \"Any\", \"Any\"\u001b[39;00m\n\u001b[1;32m-> 1217\u001b[0m \u001b[38;5;28mself\u001b[39m\u001b[38;5;241m.\u001b[39mhandles \u001b[38;5;241m=\u001b[39m \u001b[43mget_handle\u001b[49m\u001b[43m(\u001b[49m\u001b[43m  \u001b[49m\u001b[38;5;66;43;03m# type: ignore[call-overload]\u001b[39;49;00m\n\u001b[0;32m   1218\u001b[0m \u001b[43m    \u001b[49m\u001b[43mf\u001b[49m\u001b[43m,\u001b[49m\n\u001b[0;32m   1219\u001b[0m \u001b[43m    \u001b[49m\u001b[43mmode\u001b[49m\u001b[43m,\u001b[49m\n\u001b[0;32m   1220\u001b[0m \u001b[43m    \u001b[49m\u001b[43mencoding\u001b[49m\u001b[38;5;241;43m=\u001b[39;49m\u001b[38;5;28;43mself\u001b[39;49m\u001b[38;5;241;43m.\u001b[39;49m\u001b[43moptions\u001b[49m\u001b[38;5;241;43m.\u001b[39;49m\u001b[43mget\u001b[49m\u001b[43m(\u001b[49m\u001b[38;5;124;43m\"\u001b[39;49m\u001b[38;5;124;43mencoding\u001b[39;49m\u001b[38;5;124;43m\"\u001b[39;49m\u001b[43m,\u001b[49m\u001b[43m \u001b[49m\u001b[38;5;28;43;01mNone\u001b[39;49;00m\u001b[43m)\u001b[49m\u001b[43m,\u001b[49m\n\u001b[0;32m   1221\u001b[0m \u001b[43m    \u001b[49m\u001b[43mcompression\u001b[49m\u001b[38;5;241;43m=\u001b[39;49m\u001b[38;5;28;43mself\u001b[39;49m\u001b[38;5;241;43m.\u001b[39;49m\u001b[43moptions\u001b[49m\u001b[38;5;241;43m.\u001b[39;49m\u001b[43mget\u001b[49m\u001b[43m(\u001b[49m\u001b[38;5;124;43m\"\u001b[39;49m\u001b[38;5;124;43mcompression\u001b[39;49m\u001b[38;5;124;43m\"\u001b[39;49m\u001b[43m,\u001b[49m\u001b[43m \u001b[49m\u001b[38;5;28;43;01mNone\u001b[39;49;00m\u001b[43m)\u001b[49m\u001b[43m,\u001b[49m\n\u001b[0;32m   1222\u001b[0m \u001b[43m    \u001b[49m\u001b[43mmemory_map\u001b[49m\u001b[38;5;241;43m=\u001b[39;49m\u001b[38;5;28;43mself\u001b[39;49m\u001b[38;5;241;43m.\u001b[39;49m\u001b[43moptions\u001b[49m\u001b[38;5;241;43m.\u001b[39;49m\u001b[43mget\u001b[49m\u001b[43m(\u001b[49m\u001b[38;5;124;43m\"\u001b[39;49m\u001b[38;5;124;43mmemory_map\u001b[39;49m\u001b[38;5;124;43m\"\u001b[39;49m\u001b[43m,\u001b[49m\u001b[43m \u001b[49m\u001b[38;5;28;43;01mFalse\u001b[39;49;00m\u001b[43m)\u001b[49m\u001b[43m,\u001b[49m\n\u001b[0;32m   1223\u001b[0m \u001b[43m    \u001b[49m\u001b[43mis_text\u001b[49m\u001b[38;5;241;43m=\u001b[39;49m\u001b[43mis_text\u001b[49m\u001b[43m,\u001b[49m\n\u001b[0;32m   1224\u001b[0m \u001b[43m    \u001b[49m\u001b[43merrors\u001b[49m\u001b[38;5;241;43m=\u001b[39;49m\u001b[38;5;28;43mself\u001b[39;49m\u001b[38;5;241;43m.\u001b[39;49m\u001b[43moptions\u001b[49m\u001b[38;5;241;43m.\u001b[39;49m\u001b[43mget\u001b[49m\u001b[43m(\u001b[49m\u001b[38;5;124;43m\"\u001b[39;49m\u001b[38;5;124;43mencoding_errors\u001b[39;49m\u001b[38;5;124;43m\"\u001b[39;49m\u001b[43m,\u001b[49m\u001b[43m \u001b[49m\u001b[38;5;124;43m\"\u001b[39;49m\u001b[38;5;124;43mstrict\u001b[39;49m\u001b[38;5;124;43m\"\u001b[39;49m\u001b[43m)\u001b[49m\u001b[43m,\u001b[49m\n\u001b[0;32m   1225\u001b[0m \u001b[43m    \u001b[49m\u001b[43mstorage_options\u001b[49m\u001b[38;5;241;43m=\u001b[39;49m\u001b[38;5;28;43mself\u001b[39;49m\u001b[38;5;241;43m.\u001b[39;49m\u001b[43moptions\u001b[49m\u001b[38;5;241;43m.\u001b[39;49m\u001b[43mget\u001b[49m\u001b[43m(\u001b[49m\u001b[38;5;124;43m\"\u001b[39;49m\u001b[38;5;124;43mstorage_options\u001b[39;49m\u001b[38;5;124;43m\"\u001b[39;49m\u001b[43m,\u001b[49m\u001b[43m \u001b[49m\u001b[38;5;28;43;01mNone\u001b[39;49;00m\u001b[43m)\u001b[49m\u001b[43m,\u001b[49m\n\u001b[0;32m   1226\u001b[0m \u001b[43m\u001b[49m\u001b[43m)\u001b[49m\n\u001b[0;32m   1227\u001b[0m \u001b[38;5;28;01massert\u001b[39;00m \u001b[38;5;28mself\u001b[39m\u001b[38;5;241m.\u001b[39mhandles \u001b[38;5;129;01mis\u001b[39;00m \u001b[38;5;129;01mnot\u001b[39;00m \u001b[38;5;28;01mNone\u001b[39;00m\n\u001b[0;32m   1228\u001b[0m f \u001b[38;5;241m=\u001b[39m \u001b[38;5;28mself\u001b[39m\u001b[38;5;241m.\u001b[39mhandles\u001b[38;5;241m.\u001b[39mhandle\n",
      "File \u001b[1;32m~\\anaconda3\\lib\\site-packages\\pandas\\io\\common.py:789\u001b[0m, in \u001b[0;36mget_handle\u001b[1;34m(path_or_buf, mode, encoding, compression, memory_map, is_text, errors, storage_options)\u001b[0m\n\u001b[0;32m    784\u001b[0m \u001b[38;5;28;01melif\u001b[39;00m \u001b[38;5;28misinstance\u001b[39m(handle, \u001b[38;5;28mstr\u001b[39m):\n\u001b[0;32m    785\u001b[0m     \u001b[38;5;66;03m# Check whether the filename is to be opened in binary mode.\u001b[39;00m\n\u001b[0;32m    786\u001b[0m     \u001b[38;5;66;03m# Binary mode does not support 'encoding' and 'newline'.\u001b[39;00m\n\u001b[0;32m    787\u001b[0m     \u001b[38;5;28;01mif\u001b[39;00m ioargs\u001b[38;5;241m.\u001b[39mencoding \u001b[38;5;129;01mand\u001b[39;00m \u001b[38;5;124m\"\u001b[39m\u001b[38;5;124mb\u001b[39m\u001b[38;5;124m\"\u001b[39m \u001b[38;5;129;01mnot\u001b[39;00m \u001b[38;5;129;01min\u001b[39;00m ioargs\u001b[38;5;241m.\u001b[39mmode:\n\u001b[0;32m    788\u001b[0m         \u001b[38;5;66;03m# Encoding\u001b[39;00m\n\u001b[1;32m--> 789\u001b[0m         handle \u001b[38;5;241m=\u001b[39m \u001b[38;5;28;43mopen\u001b[39;49m\u001b[43m(\u001b[49m\n\u001b[0;32m    790\u001b[0m \u001b[43m            \u001b[49m\u001b[43mhandle\u001b[49m\u001b[43m,\u001b[49m\n\u001b[0;32m    791\u001b[0m \u001b[43m            \u001b[49m\u001b[43mioargs\u001b[49m\u001b[38;5;241;43m.\u001b[39;49m\u001b[43mmode\u001b[49m\u001b[43m,\u001b[49m\n\u001b[0;32m    792\u001b[0m \u001b[43m            \u001b[49m\u001b[43mencoding\u001b[49m\u001b[38;5;241;43m=\u001b[39;49m\u001b[43mioargs\u001b[49m\u001b[38;5;241;43m.\u001b[39;49m\u001b[43mencoding\u001b[49m\u001b[43m,\u001b[49m\n\u001b[0;32m    793\u001b[0m \u001b[43m            \u001b[49m\u001b[43merrors\u001b[49m\u001b[38;5;241;43m=\u001b[39;49m\u001b[43merrors\u001b[49m\u001b[43m,\u001b[49m\n\u001b[0;32m    794\u001b[0m \u001b[43m            \u001b[49m\u001b[43mnewline\u001b[49m\u001b[38;5;241;43m=\u001b[39;49m\u001b[38;5;124;43m\"\u001b[39;49m\u001b[38;5;124;43m\"\u001b[39;49m\u001b[43m,\u001b[49m\n\u001b[0;32m    795\u001b[0m \u001b[43m        \u001b[49m\u001b[43m)\u001b[49m\n\u001b[0;32m    796\u001b[0m     \u001b[38;5;28;01melse\u001b[39;00m:\n\u001b[0;32m    797\u001b[0m         \u001b[38;5;66;03m# Binary mode\u001b[39;00m\n\u001b[0;32m    798\u001b[0m         handle \u001b[38;5;241m=\u001b[39m \u001b[38;5;28mopen\u001b[39m(handle, ioargs\u001b[38;5;241m.\u001b[39mmode)\n",
      "\u001b[1;31mFileNotFoundError\u001b[0m: [Errno 2] No such file or directory: 'US_youtube_trending_data.csv'"
     ]
    }
   ],
   "source": [
    "#Read CSV\n",
    "Youtube_Data = pd.read_csv('US_youtube_trending_data.csv')\n",
    "\n",
    "# Convert CSV to Data Frame\n",
    "Youtube_Data = pd.DataFrame(Youtube_Data)\n",
    "\n",
    "# preview Data Frame\n",
    "Youtube_Data.head()"
   ]
  },
  {
   "cell_type": "code",
   "execution_count": null,
   "id": "0284bb61",
   "metadata": {},
   "outputs": [],
   "source": [
    "# Preview last 5 rows of Data Frame\n",
    "Youtube_Data.tail()"
   ]
  },
  {
   "cell_type": "code",
   "execution_count": null,
   "id": "9ea5e0d3",
   "metadata": {},
   "outputs": [],
   "source": [
    "Youtube_Data.columns"
   ]
  },
  {
   "cell_type": "code",
   "execution_count": null,
   "id": "b7c6eac1",
   "metadata": {},
   "outputs": [],
   "source": [
    "# Observe Data Types\n",
    "Youtube_Data.dtypes"
   ]
  },
  {
   "cell_type": "code",
   "execution_count": null,
   "id": "595afca5",
   "metadata": {},
   "outputs": [],
   "source": [
    "# Number of Records in data\n",
    "len(Youtube_Data)"
   ]
  },
  {
   "cell_type": "code",
   "execution_count": null,
   "id": "ad17ed33",
   "metadata": {},
   "outputs": [],
   "source": [
    "print (\"Rows     : \" , Youtube_Data.shape[0]) #Displays numbers of rows .\n",
    "print (\"Columns  : \" , Youtube_Data.shape[1]) # and column our dataset contains.\n",
    "print (\"\\nFeatures : \\n\", Youtube_Data.columns.tolist())#displays column names\n",
    "print (\"\\nMissing values :  \", Youtube_Data.isnull().sum().values.sum())   #find missing values\n",
    "print (\"\\nUnique values :  \\n\", Youtube_Data.nunique())  # Count distinct observations"
   ]
  },
  {
   "cell_type": "code",
   "execution_count": null,
   "id": "9b41ad09",
   "metadata": {},
   "outputs": [],
   "source": [
    "# finding number of null records for each column\n",
    "Youtube_Data.isna().sum()"
   ]
  },
  {
   "cell_type": "code",
   "execution_count": null,
   "id": "f27c82e3",
   "metadata": {},
   "outputs": [],
   "source": [
    "# Dropping unecessary columns\n",
    "Youtube_Data = Youtube_Data.drop(columns=['tags','comment_count','thumbnail_link','comments_disabled','ratings_disabled','description'])"
   ]
  },
  {
   "cell_type": "code",
   "execution_count": null,
   "id": "20821bba",
   "metadata": {},
   "outputs": [],
   "source": [
    "# Renaming columns\n",
    "Youtube_Data = Youtube_Data.rename(columns={'likes':'Likes','dislikes':'Dislikes',\n",
    "                                            'channelTitle':'Channel Title','channelTitle':'Channel Title',\n",
    "                                           'video_id':'Video ID','channelId':'Channel ID'})"
   ]
  },
  {
   "cell_type": "code",
   "execution_count": null,
   "id": "c9c29fc6",
   "metadata": {},
   "outputs": [],
   "source": [
    "# First five rows of updated Data Frame\n",
    "Youtube_Data.head()"
   ]
  },
  {
   "cell_type": "code",
   "execution_count": null,
   "id": "fce9178a",
   "metadata": {},
   "outputs": [],
   "source": [
    "# add new column that would contain latest view_count for the particular video.\n",
    "#since number of views keep on increasing everyday , we will be using only single observation against a video id.\n",
    "Youtube_Data['count_max_view'] = Youtube_Data.groupby(['Video ID'])['view_count'].transform(max)"
   ]
  },
  {
   "cell_type": "code",
   "execution_count": null,
   "id": "8b7cd503",
   "metadata": {},
   "outputs": [],
   "source": [
    "# Renaming Data Frame\n",
    "Youtube_Unique_Video_Id = Youtube_Data"
   ]
  },
  {
   "cell_type": "code",
   "execution_count": null,
   "id": "6e341db7",
   "metadata": {},
   "outputs": [],
   "source": [
    "#changing published date , trending_date to datetime datatype.\n",
    "Youtube_Unique_Video_Id.publishedAt= pd.to_datetime(Youtube_Unique_Video_Id.publishedAt)\n",
    "Youtube_Unique_Video_Id.trending_date= pd.to_datetime(Youtube_Unique_Video_Id.trending_date)"
   ]
  },
  {
   "cell_type": "code",
   "execution_count": null,
   "id": "11ff0e69",
   "metadata": {},
   "outputs": [],
   "source": [
    "#Adding column for year and month to the dataframe\n",
    "Youtube_Unique_Video_Id['Year']=Youtube_Unique_Video_Id['publishedAt'].dt.year\n",
    "Youtube_Unique_Video_Id['Month']=Youtube_Unique_Video_Id.publishedAt.dt.month"
   ]
  },
  {
   "cell_type": "code",
   "execution_count": null,
   "id": "9abecd79",
   "metadata": {},
   "outputs": [],
   "source": [
    "# make a new dataframe with only single observations for each id.\n",
    "Youtube_Unique_Video_Id = Youtube_Data.loc[Youtube_Data.view_count == Youtube_Data.count_max_view]\n",
    "# Youtube_Unique_Video_Id.loc[Youtube_Unique_Video_Id.Year == 2021, 'title'].count()"
   ]
  },
  {
   "cell_type": "code",
   "execution_count": null,
   "id": "f80fd3a2",
   "metadata": {},
   "outputs": [],
   "source": [
    "# Use Youtube_Unique_Video_Id for main dataset"
   ]
  },
  {
   "cell_type": "code",
   "execution_count": null,
   "id": "545801a7",
   "metadata": {
    "scrolled": true
   },
   "outputs": [],
   "source": [
    "# Number of unique records in each column\n",
    "Youtube_Unique_Video_Id.nunique()"
   ]
  },
  {
   "cell_type": "code",
   "execution_count": null,
   "id": "9b33cbb3",
   "metadata": {
    "scrolled": true
   },
   "outputs": [],
   "source": [
    "Youtube_Unique_Video_Id.duplicated(subset=['Video ID'])"
   ]
  },
  {
   "cell_type": "code",
   "execution_count": null,
   "id": "a3b794f2",
   "metadata": {
    "scrolled": false
   },
   "outputs": [],
   "source": [
    "Reocurring_Trending_Videos = Youtube_Unique_Video_Id.groupby(['Video ID']).count().sort_values(by='title',ascending=False)\n",
    "Reocurring_Trending_Videos.head(10)"
   ]
  },
  {
   "cell_type": "code",
   "execution_count": null,
   "id": "67f94eef",
   "metadata": {},
   "outputs": [],
   "source": [
    "Youtube_Unique_Video_Id.loc[Youtube_Unique_Video_Id['Video ID'] == '69KrkMpvZdg']"
   ]
  },
  {
   "cell_type": "code",
   "execution_count": null,
   "id": "b64ccb90",
   "metadata": {},
   "outputs": [],
   "source": [
    "# display data frame first five rows\n",
    "Youtube_Unique_Video_Id.head()"
   ]
  },
  {
   "cell_type": "code",
   "execution_count": null,
   "id": "32436969",
   "metadata": {},
   "outputs": [],
   "source": [
    "# Basic Statistics for Data Frame\n",
    "Youtube_Unique_Video_Id.describe().applymap('{:,.2f}'.format)"
   ]
  },
  {
   "cell_type": "code",
   "execution_count": null,
   "id": "b02a547a",
   "metadata": {
    "scrolled": true
   },
   "outputs": [],
   "source": [
    "# gives us various count of video in each channel category\n",
    "Youtube_Unique_Video_Id.groupby(\"categoryId\").size().reset_index(name=\"View Count\") \\\n",
    "    .sort_values(\"View Count\", ascending=False).head(20)"
   ]
  },
  {
   "cell_type": "code",
   "execution_count": null,
   "id": "8216216f",
   "metadata": {},
   "outputs": [],
   "source": [
    "#Getting category for the category file\n",
    "#we need id and title from this file which are under items tag and snippet contain title\n",
    "with open(\"US_category_id.json\") as f:\n",
    "    categories = json.load(f)[\"items\"]\n",
    "cat_dict = {}\n",
    "category=[]\n",
    "for cat in categories:\n",
    "    category.append([cat[\"id\"],cat[\"snippet\"][\"title\"]])"
   ]
  },
  {
   "cell_type": "code",
   "execution_count": null,
   "id": "d877c316",
   "metadata": {},
   "outputs": [],
   "source": [
    "df_category = pd.DataFrame(category,columns=['categoryId','category']) \n",
    "df_category.head(20)"
   ]
  },
  {
   "cell_type": "code",
   "execution_count": null,
   "id": "d05ae989",
   "metadata": {},
   "outputs": [],
   "source": [
    "df_category.categoryId=df_category.categoryId.astype('int64')\n",
    "#merge YT Data Frame and df_category to get category names\n",
    "df_merge = Youtube_Unique_Video_Id.merge(df_category, on = 'categoryId', how = 'inner')\n",
    "df_merge.head()"
   ]
  },
  {
   "cell_type": "code",
   "execution_count": null,
   "id": "551a87b1",
   "metadata": {},
   "outputs": [],
   "source": [
    "# Create summary chart for video counts by categories\n",
    "agg_func_count = {'view_count': ['count', 'nunique', 'size']}\n",
    "df_merge.groupby(['category']).agg(agg_func_count)\n",
    "\n",
    "#change to clean data frame name\n",
    "Youtube_Data_Updated_Merged = df_merge"
   ]
  },
  {
   "cell_type": "code",
   "execution_count": null,
   "id": "6fca3dd7",
   "metadata": {},
   "outputs": [],
   "source": [
    "# Youtube Data for 2020\n",
    "YT_Data_2020 = df_merge.loc[(df_merge['Year']) >= 2020]"
   ]
  },
  {
   "cell_type": "code",
   "execution_count": null,
   "id": "378b1d69",
   "metadata": {},
   "outputs": [],
   "source": [
    "# Counts of video in each category published in 2020\n",
    "YT_2020_Category_Summary = {'view_count': ['count', 'nunique', 'size']}\n",
    "YT_2020_Category_Summary = YT_Data_2020.groupby(['category']).agg(agg_func_count).sort_values(by=('view_count','count'),ascending=False)"
   ]
  },
  {
   "cell_type": "code",
   "execution_count": null,
   "id": "e805a064",
   "metadata": {},
   "outputs": [],
   "source": [
    "# mean, median, mode, and average of the video categories count list (max, min, mode)\n",
    "# Calculate total likes\n",
    "# Avaerage of likes against total volume of videos\n",
    "# Correlation between like count and volume of views\n",
    "YT_2020_Category_Summary"
   ]
  },
  {
   "cell_type": "code",
   "execution_count": null,
   "id": "68b77198",
   "metadata": {
    "scrolled": true
   },
   "outputs": [],
   "source": [
    "df_merge.min()"
   ]
  },
  {
   "cell_type": "code",
   "execution_count": null,
   "id": "eae36702",
   "metadata": {
    "scrolled": true
   },
   "outputs": [],
   "source": [
    "# creating same summary table, but instead using .loc to grab data only from time period needed (08/20-08/21)\n",
    "\n",
    "# Defining COVID Date Range for Data\n",
    "COVID_Start_Date = '2020-08-01'\n",
    "COVID_End_Date = '2021-08-31'\n",
    "\n",
    "# Filtering Youtube Data for 08/2020-08/2021 (Project's COVID period)\n",
    "YT_Data_COVID = df_merge.loc[(df_merge['publishedAt'] >= COVID_Start_Date) & (df_merge['publishedAt'] <= COVID_End_Date)]\n",
    "                            \n",
    "\n",
    "# Counts of video in each category published in 2020\n",
    "YT_COVID_Category_Summary = {'view_count': ['count']}\n",
    "YT_COVID_Category_Summary = YT_Data_COVID.groupby(['category']).agg(agg_func_count).sort_values(by=('view_count','count'),ascending=False)\n",
    "\n",
    "# mean, median, mode, and average of the video categories count list (max, min, mode)\n",
    "# Calculate total likes\n",
    "# Avaerage of likes against total volume of videos\n",
    "# Correlation between like count and volume of views\n",
    "\n",
    "# Convert to Data Frame\n",
    "YT_COVID_Category_Summary = pd.DataFrame(YT_COVID_Category_Summary)\n",
    "\n",
    "YT_COVID_Category_Summary"
   ]
  },
  {
   "cell_type": "code",
   "execution_count": null,
   "id": "aa31c26e",
   "metadata": {},
   "outputs": [],
   "source": [
    "# creating same summary table, but instead using .loc to grab data only from Post-COVID\n",
    "\n",
    "# Filtering Youtube Data for 09/2021-07/2022 (Project's post-COVID period)\n",
    "YT_Data_PostCOVID = df_merge.loc[(df_merge['publishedAt'] > COVID_End_Date)]"
   ]
  },
  {
   "cell_type": "code",
   "execution_count": null,
   "id": "bde05991",
   "metadata": {
    "scrolled": true
   },
   "outputs": [],
   "source": [
    "# Top 10 videos by category for all data (08/2020-07/25/22)\n",
    "df_merge.groupby(df_merge['category']).size().sort_values(ascending=True).head(10).plot(kind='bar',color='red')\n",
    "plt.title('Top 10 Video Categories By Video Uploads 08/2020-7/2022')\n",
    "plt.xlabel('Category')\n",
    "plt.ylabel('Video Count')\n",
    "plt.xticks(rotation=45,ha='right',rotation_mode='anchor')\n",
    "plt.show()\n",
    "plt.best"
   ]
  },
  {
   "cell_type": "code",
   "execution_count": null,
   "id": "23f149f8",
   "metadata": {},
   "outputs": [],
   "source": [
    "# Top 10 videos by category for COVID time-frame data (08/2020-08/2021)\n",
    "YT_Data_COVID.groupby(YT_Data_COVID['category']).size().sort_values(ascending=True).head(10).plot(kind='bar',color='red')\n",
    "plt.title('Top 10 Video Categories By Video Uploads 08/2020-08/2021')\n",
    "plt.xlabel('Category')\n",
    "plt.ylabel('Video Count')\n",
    "plt.xticks(rotation=45,ha='right',rotation_mode='anchor')\n",
    "plt.show()"
   ]
  },
  {
   "cell_type": "code",
   "execution_count": null,
   "id": "ada23150",
   "metadata": {},
   "outputs": [],
   "source": [
    "# Top 10 videos by category for post-COVID time-frame data (09/2021-07/2022)\n",
    "YT_Data_PostCOVID.groupby(YT_Data_PostCOVID['category']).size().sort_values(ascending=True).head(10).plot(kind='bar',color='red')\n",
    "plt.title('Top 10 Video Categories By Video Uploads 09/2021-07/2022')\n",
    "plt.xlabel('Category')\n",
    "plt.ylabel('Video Count')\n",
    "plt.xticks(rotation=45,ha='right',rotation_mode='anchor')\n",
    "plt.show()"
   ]
  },
  {
   "cell_type": "code",
   "execution_count": null,
   "id": "5fec8006",
   "metadata": {},
   "outputs": [],
   "source": [
    "# Showing the average view count of popular trending videos by category during COVID scope (08/2020-08/2021)\n",
    "COVID_Category_Mean_View_Count = \\\n",
    "YT_Data_COVID.groupby('category').mean('view_count')['view_count'].sort_values(ascending=True).map('{:,.0f}'.format)\n",
    "\n",
    "COVID_Category_Mean_View_Count"
   ]
  },
  {
   "cell_type": "code",
   "execution_count": null,
   "id": "bc60853a",
   "metadata": {
    "scrolled": true
   },
   "outputs": [],
   "source": [
    "# Showing the average view count of popular trending videos by category during COVID scope (08/2020-08/2021)\n",
    "plt.bar(COVID_Category_Mean_View_Count.index, COVID_Category_Mean_View_Count.values,color='red')\n",
    "# Setting axis labels\n",
    "plt.title('Average Viral Video View Count by Category 08/2020-08/2021')\n",
    "plt.xticks(rotation='vertical')\n",
    "# plt.xlabel('Category')\n",
    "plt.ylabel('Average View Count')\n",
    "plt.show()"
   ]
  },
  {
   "cell_type": "code",
   "execution_count": null,
   "id": "b0dbce8e",
   "metadata": {},
   "outputs": [],
   "source": [
    "# Showing the average view count of popular trending videos by category after COVID scope (09/2021-07/2022)\n",
    "PostCOVID_Category_Mean_View_Count = \\\n",
    "YT_Data_PostCOVID.groupby('category').mean('view_count')['view_count'].sort_values(ascending=True).map('{:,.0f}'.format)\n",
    "\n",
    "PostCOVID_Category_Mean_View_Count"
   ]
  },
  {
   "cell_type": "code",
   "execution_count": null,
   "id": "3a1f08ad",
   "metadata": {},
   "outputs": [],
   "source": [
    "# Showing the average view count of popular trending videos by category after COVID scope (09/2021-07/2022)\n",
    "plt.bar(PostCOVID_Category_Mean_View_Count.index, PostCOVID_Category_Mean_View_Count.values,color='red')\n",
    "# Setting axis labels\n",
    "plt.title('Average Viral Video View Count by Category 09/2021-07/2022')\n",
    "plt.xticks(rotation='vertical')\n",
    "# plt.xlabel('Category')\n",
    "plt.ylabel('Average View Count')\n",
    "plt.show()"
   ]
  },
  {
   "cell_type": "code",
   "execution_count": null,
   "id": "d1a31eb0",
   "metadata": {},
   "outputs": [],
   "source": [
    "# Video Categories Averages Data Frame for full data set (08/2020-07/2022)\n",
    "Category_viewCount_Likes_Dislikes_All = \\\n",
    "df_merge.groupby('category').mean().sort_values(by=['Likes','Dislikes'],ascending=False)#.map('{:,.0f}'.format)\n",
    "\n",
    "Category_viewCount_Likes_Dislikes_All = pd.DataFrame(Category_viewCount_Likes_Dislikes)\n",
    "\n",
    "Category_viewCount_Likes_Dislikes_All = Category_viewCount_Likes_Dislikes.round(0)"
   ]
  },
  {
   "cell_type": "code",
   "execution_count": null,
   "id": "091ff93f",
   "metadata": {},
   "outputs": [],
   "source": [
    "# Create Scatter plot and show correlation for full data set (08/2020-07/2022)\n",
    "x_values = Category_viewCount_Likes_Dislikes['view_count']\n",
    "y_values = Category_viewCount_Likes_Dislikes['Likes']\n",
    "(slope, intercept, rvalue, pvalue, stderr) = linregress(x_values, y_values)\n",
    "regress_values = x_values * slope + intercept\n",
    "line_eq = \"y = \" + str(round(slope,2)) + \"x + \" + str(round(intercept,2))\n",
    "plt.scatter(x_values,y_values)\n",
    "plt.plot(x_values,regress_values,\"r-\")\n",
    "plt.annotate(line_eq,(3,3),fontsize=15,color=\"red\")\n",
    "plt.title('Average Like Count by Average Total Category View Count 08/2020-07/2022')\n",
    "plt.xlabel('Category Average View Count')\n",
    "plt.ylabel('Average Likes Count')\n",
    "print(f\"The r-squared is: {rvalue**2}\")\n",
    "plt.show()"
   ]
  },
  {
   "cell_type": "code",
   "execution_count": null,
   "id": "6929b515",
   "metadata": {},
   "outputs": [],
   "source": [
    "# Video Categories Averages Data Frame for COVID scope data (08/2020-08/2021)\n",
    "Category_viewCount_Likes_Dislikes_COVID = \\\n",
    "YT_Data_COVID.groupby('category').mean().sort_values(by=['Likes','Dislikes'],ascending=False)#.map('{:,.0f}'.format)\n",
    "\n",
    "Category_viewCount_Likes_Dislikes_COVID = pd.DataFrame(Category_viewCount_Likes_Dislikes_COVID)\n",
    "\n",
    "Category_viewCount_Likes_Dislikes_COVID = Category_viewCount_Likes_Dislikes_COVID.round(0)"
   ]
  },
  {
   "cell_type": "code",
   "execution_count": null,
   "id": "86a758da",
   "metadata": {},
   "outputs": [],
   "source": [
    "# Create Scatter plot and show correlation for COVID data (08/2020-08/2021)\n",
    "x_values = Category_viewCount_Likes_Dislikes_COVID['view_count']\n",
    "y_values = Category_viewCount_Likes_Dislikes_COVID['Likes']\n",
    "(slope, intercept, rvalue, pvalue, stderr) = linregress(x_values, y_values)\n",
    "regress_values = x_values * slope + intercept\n",
    "line_eq = \"y = \" + str(round(slope,2)) + \"x + \" + str(round(intercept,2))\n",
    "plt.scatter(x_values,y_values)\n",
    "plt.plot(x_values,regress_values,\"r-\")\n",
    "plt.annotate(line_eq,(3,3),fontsize=15,color=\"red\")\n",
    "plt.title('Average Like Count by Average Total Category View Count 08/2020-08/2021')\n",
    "plt.xlabel('Category Average View Count')\n",
    "plt.ylabel('Average Likes Count')\n",
    "print(f\"The r-squared is: {rvalue**2}\")\n",
    "plt.show()"
   ]
  },
  {
   "cell_type": "code",
   "execution_count": null,
   "id": "1cb27765",
   "metadata": {},
   "outputs": [],
   "source": [
    "# Video Categories Averages Data Frame for post-COVID scope data (09/2021-07/2022)\n",
    "Category_viewCount_Likes_Dislikes_PostCOVID = \\\n",
    "YT_Data_PostCOVID.groupby('category').mean().sort_values(by=['Likes','Dislikes'],ascending=False)#.map('{:,.0f}'.format)\n",
    "\n",
    "Category_viewCount_Likes_Dislikes_PostCOVID = pd.DataFrame(Category_viewCount_Likes_Dislikes_PostCOVID)\n",
    "\n",
    "Category_viewCount_Likes_Dislikes_PostCOVID = Category_viewCount_Likes_Dislikes_PostCOVID.round(0)"
   ]
  },
  {
   "cell_type": "code",
   "execution_count": null,
   "id": "a8aee36a",
   "metadata": {},
   "outputs": [],
   "source": [
    "# Create Scatter plot and show correlation for COVID data (09/2021-07/2022)\n",
    "x_values = Category_viewCount_Likes_Dislikes_PostCOVID['view_count']\n",
    "y_values = Category_viewCount_Likes_Dislikes_PostCOVID['Likes']\n",
    "(slope, intercept, rvalue, pvalue, stderr) = linregress(x_values, y_values)\n",
    "regress_values = x_values * slope + intercept\n",
    "line_eq = \"y = \" + str(round(slope,2)) + \"x + \" + str(round(intercept,2))\n",
    "plt.scatter(x_values,y_values)\n",
    "plt.plot(x_values,regress_values,\"r-\")\n",
    "plt.annotate(line_eq,(3,3),fontsize=15,color=\"red\")\n",
    "plt.title('Average Like Count by Average Total Category View Count 09/2021-07/2022')\n",
    "plt.xlabel('Category Average View Count')\n",
    "plt.ylabel('Average Likes Count')\n",
    "print(f\"The r-squared is: {rvalue**2}\")\n",
    "plt.show()"
   ]
  }
 ],
 "metadata": {
  "kernelspec": {
   "display_name": "Python 3 (ipykernel)",
   "language": "python",
   "name": "python3"
  },
  "language_info": {
   "codemirror_mode": {
    "name": "ipython",
    "version": 3
   },
   "file_extension": ".py",
   "mimetype": "text/x-python",
   "name": "python",
   "nbconvert_exporter": "python",
   "pygments_lexer": "ipython3",
   "version": "3.9.12"
  }
 },
 "nbformat": 4,
 "nbformat_minor": 5
}
